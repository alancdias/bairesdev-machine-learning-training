{
 "cells": [
  {
   "cell_type": "markdown",
   "id": "a6520c14",
   "metadata": {},
   "source": [
    "# Sistema de Recomendação por Similaridade de Imagens\n",
    "## Primeira Parte: Extração e Armazenamento de Features de Imagens\n",
    "<p>Esta primeira parte do projeto toma imagens de uma base de treinamento e, utilizando uma rede neural pretreinada, extrai features de cada imagem e armazena-as em um DataFrame, para uso posterior na busca.\n",
    "<p>Foram utilizadas 44.441 imagens para criação da base, retiradas do dataset <a href=\"https://www.kaggle.com/datasets/bhaskar2443053/fashion-small\">Fashion Small, do Kaggle</a>.\n",
    "<p>Para extração de features das imagens, foi utilizada a rede VGG16 preteinada com os pesos da imagenet e sem as camadas de classificação.\n",
    "<p>Como resultado, esta parte do projeto gera um arquivo csv com 513 colunas features para cada imagem, sendo uma coluna para armazenar o nome da imagem e 512 para armazenar as features.\n",
    "<p>Como o objetivo é criar o csv que será utilizado na consulta de imagens, este notebook só precisa ser executado quando houver alterações na base de imagens.\n",
    "<p>Esta parte foi separada por ser um processo demorado, mas que não precisa ser executado com frequência.\n",
    "<p>A consulta de imagem será tratada pelo notebook image_query.ipynb, considerando que o arquivo csv já foi criado por este notebook."
   ]
  },
  {
   "cell_type": "markdown",
   "id": "ffc8c409",
   "metadata": {},
   "source": [
    "### Etapa 1: Importação de bibliotecas"
   ]
  },
  {
   "cell_type": "code",
   "execution_count": 1,
   "metadata": {},
   "outputs": [
    {
     "name": "stdout",
     "output_type": "stream",
     "text": [
      "Tudo certo com as importações\n"
     ]
    }
   ],
   "source": [
    "import os # para tratar caminhos de arquivos\n",
    "import pandas as pd # para tratar bancos de dados\n",
    "import tqdm # opcional; para exibir barra de progresso durante a extração de features.\n",
    "import utils # contém o modelo e a função de extração de features\n",
    "\n",
    "img_folder = utils.img_folder # pasta onde estão as imagens da base de dados\n",
    "\n",
    "print('Tudo certo com as importações')"
   ]
  },
  {
   "cell_type": "markdown",
   "id": "7b5a13b0",
   "metadata": {},
   "source": [
    "### Etapa 2: Extração de features da base de imagens"
   ]
  },
  {
   "cell_type": "code",
   "execution_count": null,
   "id": "75434aaf",
   "metadata": {},
   "outputs": [
    {
     "name": "stdout",
     "output_type": "stream",
     "text": [
      "Construindo dataset com as características das imagens.\n",
      "Isso pode demorar um bocado de tempo.\n",
      "Recomendo que vá viver sua vida, cheirar as flores, ler um livro ou coisa assim.\n"
     ]
    },
    {
     "name": "stderr",
     "output_type": "stream",
     "text": [
      "  0%|          | 0/5 [00:00<?, ?it/s]"
     ]
    },
    {
     "name": "stderr",
     "output_type": "stream",
     "text": [
      "100%|██████████| 5/5 [00:18<00:00,  3.78s/it]\n"
     ]
    }
   ],
   "source": [
    "\n",
    "features_matrix = {} # as features serão armazenadas em um dicionário\n",
    "print('Construindo dataset com as características das imagens.')\n",
    "print('Isso pode demorar um bocado de tempo.')\n",
    "print('Recomendo que vá viver sua vida, cheirar as flores, ler um livro ou coisa assim.')\n",
    "files = os.listdir(img_folder)[:5] #lista os arquivos de imagem (tirar o [:5] em produção, para englobar todas as imagens.)\n",
    "with tqdm.tqdm(total=len(files)) as progress: #cria uma barra de progresso (opcional, mas útil)\n",
    "    for img_path in files: #para cada imagem da base:\n",
    "        features = utils.img_features_extract(os.path.join(img_folder, img_path), verbose=0) #extrai as features da imagem\n",
    "        features_matrix[img_path] = features #armazena o vetor de features no dicionário\n",
    "        progress.update() #atualiza a barra de progresso\n",
    "    \n"
   ]
  },
  {
   "cell_type": "markdown",
   "id": "45ad8421",
   "metadata": {},
   "source": [
    "### Etapa 3: Exportação das features para um arquivo externo"
   ]
  },
  {
   "cell_type": "code",
   "execution_count": null,
   "id": "ff8c1a55",
   "metadata": {},
   "outputs": [
    {
     "name": "stdout",
     "output_type": "stream",
     "text": [
      "O dataset foi construído e salvo no arquivo \"image_features.csv\".\n",
      "Abaixo é possível visualizar um pedacinho do dataset.\n"
     ]
    },
    {
     "data": {
      "text/html": [
       "<div>\n",
       "<style scoped>\n",
       "    .dataframe tbody tr th:only-of-type {\n",
       "        vertical-align: middle;\n",
       "    }\n",
       "\n",
       "    .dataframe tbody tr th {\n",
       "        vertical-align: top;\n",
       "    }\n",
       "\n",
       "    .dataframe thead th {\n",
       "        text-align: right;\n",
       "    }\n",
       "</style>\n",
       "<table border=\"1\" class=\"dataframe\">\n",
       "  <thead>\n",
       "    <tr style=\"text-align: right;\">\n",
       "      <th></th>\n",
       "      <th>file_name</th>\n",
       "      <th>0</th>\n",
       "      <th>1</th>\n",
       "      <th>2</th>\n",
       "      <th>3</th>\n",
       "      <th>4</th>\n",
       "      <th>5</th>\n",
       "      <th>6</th>\n",
       "      <th>7</th>\n",
       "      <th>8</th>\n",
       "      <th>...</th>\n",
       "      <th>502</th>\n",
       "      <th>503</th>\n",
       "      <th>504</th>\n",
       "      <th>505</th>\n",
       "      <th>506</th>\n",
       "      <th>507</th>\n",
       "      <th>508</th>\n",
       "      <th>509</th>\n",
       "      <th>510</th>\n",
       "      <th>511</th>\n",
       "    </tr>\n",
       "  </thead>\n",
       "  <tbody>\n",
       "    <tr>\n",
       "      <th>0</th>\n",
       "      <td>10000.jpg</td>\n",
       "      <td>0.0</td>\n",
       "      <td>0.0</td>\n",
       "      <td>0.0</td>\n",
       "      <td>0.0</td>\n",
       "      <td>0.0</td>\n",
       "      <td>0.0</td>\n",
       "      <td>0.0</td>\n",
       "      <td>0.0</td>\n",
       "      <td>0.0</td>\n",
       "      <td>...</td>\n",
       "      <td>0.0</td>\n",
       "      <td>0.0</td>\n",
       "      <td>0.0</td>\n",
       "      <td>0.0</td>\n",
       "      <td>0.0</td>\n",
       "      <td>0.0</td>\n",
       "      <td>0.0</td>\n",
       "      <td>0.0</td>\n",
       "      <td>0.0</td>\n",
       "      <td>0.0</td>\n",
       "    </tr>\n",
       "    <tr>\n",
       "      <th>1</th>\n",
       "      <td>10001.jpg</td>\n",
       "      <td>0.0</td>\n",
       "      <td>0.0</td>\n",
       "      <td>0.0</td>\n",
       "      <td>0.0</td>\n",
       "      <td>0.0</td>\n",
       "      <td>0.0</td>\n",
       "      <td>0.0</td>\n",
       "      <td>0.0</td>\n",
       "      <td>0.0</td>\n",
       "      <td>...</td>\n",
       "      <td>0.0</td>\n",
       "      <td>0.0</td>\n",
       "      <td>0.0</td>\n",
       "      <td>0.0</td>\n",
       "      <td>0.0</td>\n",
       "      <td>0.0</td>\n",
       "      <td>0.0</td>\n",
       "      <td>0.0</td>\n",
       "      <td>0.0</td>\n",
       "      <td>0.0</td>\n",
       "    </tr>\n",
       "    <tr>\n",
       "      <th>2</th>\n",
       "      <td>10002.jpg</td>\n",
       "      <td>0.0</td>\n",
       "      <td>0.0</td>\n",
       "      <td>0.0</td>\n",
       "      <td>0.0</td>\n",
       "      <td>0.0</td>\n",
       "      <td>0.0</td>\n",
       "      <td>0.0</td>\n",
       "      <td>0.0</td>\n",
       "      <td>0.0</td>\n",
       "      <td>...</td>\n",
       "      <td>0.0</td>\n",
       "      <td>0.0</td>\n",
       "      <td>0.0</td>\n",
       "      <td>0.0</td>\n",
       "      <td>0.0</td>\n",
       "      <td>0.0</td>\n",
       "      <td>0.0</td>\n",
       "      <td>0.0</td>\n",
       "      <td>0.0</td>\n",
       "      <td>0.0</td>\n",
       "    </tr>\n",
       "    <tr>\n",
       "      <th>3</th>\n",
       "      <td>10003.jpg</td>\n",
       "      <td>0.0</td>\n",
       "      <td>0.0</td>\n",
       "      <td>0.0</td>\n",
       "      <td>0.0</td>\n",
       "      <td>0.0</td>\n",
       "      <td>0.0</td>\n",
       "      <td>0.0</td>\n",
       "      <td>0.0</td>\n",
       "      <td>0.0</td>\n",
       "      <td>...</td>\n",
       "      <td>0.0</td>\n",
       "      <td>0.0</td>\n",
       "      <td>0.0</td>\n",
       "      <td>0.0</td>\n",
       "      <td>0.0</td>\n",
       "      <td>0.0</td>\n",
       "      <td>0.0</td>\n",
       "      <td>0.0</td>\n",
       "      <td>0.0</td>\n",
       "      <td>0.0</td>\n",
       "    </tr>\n",
       "    <tr>\n",
       "      <th>4</th>\n",
       "      <td>10004.jpg</td>\n",
       "      <td>0.0</td>\n",
       "      <td>0.0</td>\n",
       "      <td>0.0</td>\n",
       "      <td>0.0</td>\n",
       "      <td>0.0</td>\n",
       "      <td>0.0</td>\n",
       "      <td>0.0</td>\n",
       "      <td>0.0</td>\n",
       "      <td>0.0</td>\n",
       "      <td>...</td>\n",
       "      <td>0.0</td>\n",
       "      <td>0.0</td>\n",
       "      <td>0.0</td>\n",
       "      <td>0.0</td>\n",
       "      <td>0.0</td>\n",
       "      <td>0.0</td>\n",
       "      <td>0.0</td>\n",
       "      <td>0.0</td>\n",
       "      <td>0.0</td>\n",
       "      <td>0.0</td>\n",
       "    </tr>\n",
       "  </tbody>\n",
       "</table>\n",
       "<p>5 rows × 513 columns</p>\n",
       "</div>"
      ],
      "text/plain": [
       "   file_name    0    1    2    3    4    5    6    7    8  ...  502  503  504  \\\n",
       "0  10000.jpg  0.0  0.0  0.0  0.0  0.0  0.0  0.0  0.0  0.0  ...  0.0  0.0  0.0   \n",
       "1  10001.jpg  0.0  0.0  0.0  0.0  0.0  0.0  0.0  0.0  0.0  ...  0.0  0.0  0.0   \n",
       "2  10002.jpg  0.0  0.0  0.0  0.0  0.0  0.0  0.0  0.0  0.0  ...  0.0  0.0  0.0   \n",
       "3  10003.jpg  0.0  0.0  0.0  0.0  0.0  0.0  0.0  0.0  0.0  ...  0.0  0.0  0.0   \n",
       "4  10004.jpg  0.0  0.0  0.0  0.0  0.0  0.0  0.0  0.0  0.0  ...  0.0  0.0  0.0   \n",
       "\n",
       "   505  506  507  508  509  510  511  \n",
       "0  0.0  0.0  0.0  0.0  0.0  0.0  0.0  \n",
       "1  0.0  0.0  0.0  0.0  0.0  0.0  0.0  \n",
       "2  0.0  0.0  0.0  0.0  0.0  0.0  0.0  \n",
       "3  0.0  0.0  0.0  0.0  0.0  0.0  0.0  \n",
       "4  0.0  0.0  0.0  0.0  0.0  0.0  0.0  \n",
       "\n",
       "[5 rows x 513 columns]"
      ]
     },
     "execution_count": 5,
     "metadata": {},
     "output_type": "execute_result"
    }
   ],
   "source": [
    "df = pd.DataFrame.from_dict(features_matrix, orient='index').reset_index() #converte o dicionário de features em DataFrame\n",
    "df.rename(columns={'index': 'file_name'}, inplace=True) #renomeia a coluna com o nome da imagem\n",
    "df.to_csv(\"image_features.csv\", index=False) #salva o DataFrame em um arquivo.\n",
    "print('O dataset foi construído e salvo no arquivo \"image_features.csv\".')\n",
    "print('Abaixo é possível visualizar um pedacinho do dataset.')\n",
    "df.head() #exibe parte do DataFrame"
   ]
  }
 ],
 "metadata": {
  "kernelspec": {
   "display_name": "'Python Interactive'",
   "language": "python",
   "name": "3b07424c-838b-4a6d-b9f3-b23f7dd1d88f"
  },
  "language_info": {
   "codemirror_mode": {
    "name": "ipython",
    "version": 3
   },
   "file_extension": ".py",
   "mimetype": "text/x-python",
   "name": "python",
   "nbconvert_exporter": "python",
   "pygments_lexer": "ipython3",
   "version": "3.11.7"
  }
 },
 "nbformat": 4,
 "nbformat_minor": 5
}
